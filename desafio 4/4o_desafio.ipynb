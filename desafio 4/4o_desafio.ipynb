{
  "cells": [
    {
      "cell_type": "code",
      "execution_count": null,
      "metadata": {
        "id": "HC6iERWsOiyB"
      },
      "outputs": [],
      "source": [
        "import tensorflow as tf\n",
        "from tensorflow.keras.preprocessing.text import Tokenizer\n",
        "from tensorflow.keras.layers import Embedding, LSTM, Dense\n",
        "from tensorflow.keras.models import Sequential\n",
        "from tensorflow.keras.utils import to_categorical\n",
        "from tensorflow.keras.optimizers import Adam\n",
        "import pickle\n",
        "import numpy as np\n",
        "import os"
      ]
    },
    {
      "cell_type": "code",
      "execution_count": null,
      "metadata": {
        "colab": {
          "base_uri": "https://localhost:8080/",
          "height": 73,
          "resources": {
            "http://localhost:8080/nbextensions/google.colab/files.js": {
              "data": "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",
              "headers": [
                [
                  "content-type",
                  "application/javascript"
                ]
              ],
              "ok": true,
              "status": 200,
              "status_text": ""
            }
          }
        },
        "id": "GVgSxf24OmFz",
        "outputId": "e47b6027-549c-4af5-a265-a6067b52a880"
      },
      "outputs": [
        {
          "data": {
            "text/html": [
              "\n",
              "     <input type=\"file\" id=\"files-2986d9de-ea2d-4803-a349-05b4f9750ac3\" name=\"files[]\" multiple disabled\n",
              "        style=\"border:none\" />\n",
              "     <output id=\"result-2986d9de-ea2d-4803-a349-05b4f9750ac3\">\n",
              "      Upload widget is only available when the cell has been executed in the\n",
              "      current browser session. Please rerun this cell to enable.\n",
              "      </output>\n",
              "      <script src=\"/nbextensions/google.colab/files.js\"></script> "
            ],
            "text/plain": [
              "<IPython.core.display.HTML object>"
            ]
          },
          "metadata": {},
          "output_type": "display_data"
        },
        {
          "name": "stdout",
          "output_type": "stream",
          "text": [
            "Saving data - copia.txt to data - copia.txt\n"
          ]
        }
      ],
      "source": [
        "from google.colab import files\n",
        "uploaded = files.upload()"
      ]
    },
    {
      "cell_type": "code",
      "execution_count": null,
      "metadata": {
        "colab": {
          "base_uri": "https://localhost:8080/",
          "height": 139
        },
        "id": "no8GX9akO2VU",
        "outputId": "ddb23ddb-8f24-4da4-f1be-094745586b32"
      },
      "outputs": [
        {
          "data": {
            "application/vnd.google.colaboratory.intrinsic+json": {
              "type": "string"
            },
            "text/plain": [
              "'In the beginning God created the heavens and the earth. And the earth was without form, and void; and darkness was upon the face of the deep. And the Spirit of God moved upon the face of the And God said, Let there be light: and there was light. And God saw the light, that it was good: and God divided the light from the darkness. And God called the light Day, and the darkness he called Night. And the evening and the morning were the first day. And God said, Let there be a firmament in the midst '"
            ]
          },
          "execution_count": 3,
          "metadata": {},
          "output_type": "execute_result"
        }
      ],
      "source": [
        "file = open(\"data - copia.txt\", \"r\", encoding = \"utf8\")\n",
        "\n",
        "# store file in list\n",
        "lines = []\n",
        "for i in file:\n",
        "    lines.append(i)\n",
        "\n",
        "# Convert list to string\n",
        "data = \"\"\n",
        "for i in lines:\n",
        "  data = ' '. join(lines) \n",
        "\n",
        "#replace unnecessary stuff with space\n",
        "data = data.replace('\\n', '').replace('\\r', '').replace('\\ufeff', '').replace('“','').replace('”','')  #new line, carriage return, unicode character --> replace by space\n",
        "\n",
        "#remove unnecessary spaces \n",
        "data = data.split()\n",
        "data = ' '.join(data)\n",
        "data[:500]"
      ]
    },
    {
      "cell_type": "code",
      "execution_count": null,
      "metadata": {
        "colab": {
          "base_uri": "https://localhost:8080/"
        },
        "id": "YYpKm-vXPHGU",
        "outputId": "dd4c9ee0-3ddf-43d4-d469-baa1cb1f5bc4"
      },
      "outputs": [
        {
          "name": "stdout",
          "output_type": "stream",
          "text": [
            "3830\n"
          ]
        }
      ],
      "source": [
        "tokenizer = Tokenizer()\n",
        "tokenizer.fit_on_texts([data])\n",
        "\n",
        "# saving the tokenizer for predict function\n",
        "pickle.dump(tokenizer, open('token.pkl', 'wb'))\n",
        "\n",
        "sequence_data = tokenizer.texts_to_sequences([data])[0]\n",
        "sequence_data[:15]\n",
        "\n",
        "len(sequence_data)\n",
        "\n",
        "vocab_size = len(tokenizer.word_index) + 1\n",
        "print(vocab_size)"
      ]
    },
    {
      "cell_type": "code",
      "execution_count": null,
      "metadata": {
        "colab": {
          "base_uri": "https://localhost:8080/"
        },
        "id": "yeHPPLIOPN6Y",
        "outputId": "300c0a51-cd18-4e7e-8947-ce9583541de0"
      },
      "outputs": [
        {
          "name": "stdout",
          "output_type": "stream",
          "text": [
            "The Length of sequences are:  96184\n",
            "Data:  [[   6    1 1149]\n",
            " [   1 1149   36]\n",
            " [1149   36  779]\n",
            " [  36  779    1]\n",
            " [ 779    1 1447]\n",
            " [   1 1447    2]\n",
            " [1447    2    1]\n",
            " [   2    1  104]\n",
            " [   1  104    2]\n",
            " [ 104    2    1]]\n",
            "Response:  [  36  779    1 1447    2    1  104    2    1  104]\n"
          ]
        },
        {
          "data": {
            "text/plain": [
              "array([[0., 0., 0., ..., 0., 0., 0.],\n",
              "       [0., 0., 0., ..., 0., 0., 0.],\n",
              "       [0., 1., 0., ..., 0., 0., 0.],\n",
              "       [0., 0., 0., ..., 0., 0., 0.],\n",
              "       [0., 0., 1., ..., 0., 0., 0.]], dtype=float32)"
            ]
          },
          "execution_count": 5,
          "metadata": {},
          "output_type": "execute_result"
        }
      ],
      "source": [
        "sequences = []\n",
        "\n",
        "for i in range(3, len(sequence_data)):\n",
        "    words = sequence_data[i-3:i+1]\n",
        "    sequences.append(words)\n",
        "    \n",
        "print(\"The Length of sequences are: \", len(sequences))\n",
        "sequences = np.array(sequences)\n",
        "sequences[:10]\n",
        "\n",
        "X = []\n",
        "y = []\n",
        "\n",
        "for i in sequences:\n",
        "    X.append(i[0:3])\n",
        "    y.append(i[3])\n",
        "    \n",
        "X = np.array(X)\n",
        "y = np.array(y)\n",
        "\n",
        "print(\"Data: \", X[:10])\n",
        "print(\"Response: \", y[:10])\n",
        "\n",
        "y = to_categorical(y, num_classes=vocab_size)\n",
        "y[:5]"
      ]
    },
    {
      "cell_type": "code",
      "execution_count": null,
      "metadata": {
        "colab": {
          "base_uri": "https://localhost:8080/"
        },
        "id": "GGnNZj6pPVOZ",
        "outputId": "b23f23ed-d08f-45a9-e844-c28d54b2b964"
      },
      "outputs": [
        {
          "name": "stdout",
          "output_type": "stream",
          "text": [
            "Model: \"sequential\"\n",
            "_________________________________________________________________\n",
            " Layer (type)                Output Shape              Param #   \n",
            "=================================================================\n",
            " embedding (Embedding)       (None, 3, 10)             38300     \n",
            "                                                                 \n",
            " lstm (LSTM)                 (None, 3, 1000)           4044000   \n",
            "                                                                 \n",
            " lstm_1 (LSTM)               (None, 1000)              8004000   \n",
            "                                                                 \n",
            " dense (Dense)               (None, 1000)              1001000   \n",
            "                                                                 \n",
            " dense_1 (Dense)             (None, 3830)              3833830   \n",
            "                                                                 \n",
            "=================================================================\n",
            "Total params: 16,921,130\n",
            "Trainable params: 16,921,130\n",
            "Non-trainable params: 0\n",
            "_________________________________________________________________\n"
          ]
        }
      ],
      "source": [
        "model = Sequential()\n",
        "model.add(Embedding(vocab_size, 10, input_length=3))\n",
        "model.add(LSTM(1000, return_sequences=True))\n",
        "model.add(LSTM(1000))\n",
        "model.add(Dense(1000, activation=\"relu\"))\n",
        "model.add(Dense(vocab_size, activation=\"softmax\"))\n",
        "\n",
        "model.summary()"
      ]
    },
    {
      "cell_type": "code",
      "execution_count": null,
      "metadata": {
        "colab": {
          "base_uri": "https://localhost:8080/"
        },
        "id": "IYwbyV_FPaPH",
        "outputId": "8c11c712-e9ef-4633-8a57-7e9144df64a3"
      },
      "outputs": [
        {
          "name": "stdout",
          "output_type": "stream",
          "text": [
            "Epoch 1/70\n",
            "1501/1503 [============================>.] - ETA: 0s - loss: 2.3969\n",
            "Epoch 1: loss improved from inf to 2.39651, saving model to next_words.h5\n",
            "1503/1503 [==============================] - 24s 14ms/step - loss: 2.3965\n",
            "Epoch 2/70\n",
            "1502/1503 [============================>.] - ETA: 0s - loss: 2.2074\n",
            "Epoch 2: loss improved from 2.39651 to 2.20744, saving model to next_words.h5\n",
            "1503/1503 [==============================] - 22s 14ms/step - loss: 2.2074\n",
            "Epoch 3/70\n",
            "1502/1503 [============================>.] - ETA: 0s - loss: 2.0509\n",
            "Epoch 3: loss improved from 2.20744 to 2.05082, saving model to next_words.h5\n",
            "1503/1503 [==============================] - 21s 14ms/step - loss: 2.0508\n",
            "Epoch 4/70\n",
            "1500/1503 [============================>.] - ETA: 0s - loss: 1.8944\n",
            "Epoch 4: loss improved from 2.05082 to 1.89448, saving model to next_words.h5\n",
            "1503/1503 [==============================] - 21s 14ms/step - loss: 1.8945\n",
            "Epoch 5/70\n",
            "1501/1503 [============================>.] - ETA: 0s - loss: 1.7479\n",
            "Epoch 5: loss improved from 1.89448 to 1.74809, saving model to next_words.h5\n",
            "1503/1503 [==============================] - 21s 14ms/step - loss: 1.7481\n",
            "Epoch 6/70\n",
            "1500/1503 [============================>.] - ETA: 0s - loss: 1.6138\n",
            "Epoch 6: loss improved from 1.74809 to 1.61405, saving model to next_words.h5\n",
            "1503/1503 [==============================] - 21s 14ms/step - loss: 1.6141\n",
            "Epoch 7/70\n",
            "1501/1503 [============================>.] - ETA: 0s - loss: 1.4907\n",
            "Epoch 7: loss improved from 1.61405 to 1.49055, saving model to next_words.h5\n",
            "1503/1503 [==============================] - 22s 14ms/step - loss: 1.4905\n",
            "Epoch 8/70\n",
            "1500/1503 [============================>.] - ETA: 0s - loss: 1.3874\n",
            "Epoch 8: loss improved from 1.49055 to 1.38773, saving model to next_words.h5\n",
            "1503/1503 [==============================] - 21s 14ms/step - loss: 1.3877\n",
            "Epoch 9/70\n",
            "1503/1503 [==============================] - ETA: 0s - loss: 1.2976\n",
            "Epoch 9: loss improved from 1.38773 to 1.29758, saving model to next_words.h5\n",
            "1503/1503 [==============================] - 21s 14ms/step - loss: 1.2976\n",
            "Epoch 10/70\n",
            "1502/1503 [============================>.] - ETA: 0s - loss: 1.2193\n",
            "Epoch 10: loss improved from 1.29758 to 1.21942, saving model to next_words.h5\n",
            "1503/1503 [==============================] - 21s 14ms/step - loss: 1.2194\n",
            "Epoch 11/70\n",
            "1500/1503 [============================>.] - ETA: 0s - loss: 1.1546\n",
            "Epoch 11: loss improved from 1.21942 to 1.15491, saving model to next_words.h5\n",
            "1503/1503 [==============================] - 21s 14ms/step - loss: 1.1549\n",
            "Epoch 12/70\n",
            "1502/1503 [============================>.] - ETA: 0s - loss: 1.1036\n",
            "Epoch 12: loss improved from 1.15491 to 1.10379, saving model to next_words.h5\n",
            "1503/1503 [==============================] - 22s 14ms/step - loss: 1.1038\n",
            "Epoch 13/70\n",
            "1503/1503 [==============================] - ETA: 0s - loss: 1.0597\n",
            "Epoch 13: loss improved from 1.10379 to 1.05969, saving model to next_words.h5\n",
            "1503/1503 [==============================] - 21s 14ms/step - loss: 1.0597\n",
            "Epoch 14/70\n",
            "1501/1503 [============================>.] - ETA: 0s - loss: 1.0196\n",
            "Epoch 14: loss improved from 1.05969 to 1.01979, saving model to next_words.h5\n",
            "1503/1503 [==============================] - 21s 14ms/step - loss: 1.0198\n",
            "Epoch 15/70\n",
            "1501/1503 [============================>.] - ETA: 0s - loss: 0.9872\n",
            "Epoch 15: loss improved from 1.01979 to 0.98709, saving model to next_words.h5\n",
            "1503/1503 [==============================] - 21s 14ms/step - loss: 0.9871\n",
            "Epoch 16/70\n",
            "1501/1503 [============================>.] - ETA: 0s - loss: 0.9608\n",
            "Epoch 16: loss improved from 0.98709 to 0.96084, saving model to next_words.h5\n",
            "1503/1503 [==============================] - 21s 14ms/step - loss: 0.9608\n",
            "Epoch 17/70\n",
            "1501/1503 [============================>.] - ETA: 0s - loss: 0.9386\n",
            "Epoch 17: loss improved from 0.96084 to 0.93874, saving model to next_words.h5\n",
            "1503/1503 [==============================] - 21s 14ms/step - loss: 0.9387\n",
            "Epoch 18/70\n",
            "1503/1503 [==============================] - ETA: 0s - loss: 0.9167\n",
            "Epoch 18: loss improved from 0.93874 to 0.91668, saving model to next_words.h5\n",
            "1503/1503 [==============================] - 21s 14ms/step - loss: 0.9167\n",
            "Epoch 19/70\n",
            "1501/1503 [============================>.] - ETA: 0s - loss: 0.8989\n",
            "Epoch 19: loss improved from 0.91668 to 0.89891, saving model to next_words.h5\n",
            "1503/1503 [==============================] - 21s 14ms/step - loss: 0.8989\n",
            "Epoch 20/70\n",
            "1501/1503 [============================>.] - ETA: 0s - loss: 0.8805\n",
            "Epoch 20: loss improved from 0.89891 to 0.88064, saving model to next_words.h5\n",
            "1503/1503 [==============================] - 21s 14ms/step - loss: 0.8806\n",
            "Epoch 21/70\n",
            "1500/1503 [============================>.] - ETA: 0s - loss: 0.8687\n",
            "Epoch 21: loss improved from 0.88064 to 0.86891, saving model to next_words.h5\n",
            "1503/1503 [==============================] - 21s 14ms/step - loss: 0.8689\n",
            "Epoch 22/70\n",
            "1502/1503 [============================>.] - ETA: 0s - loss: 0.8525\n",
            "Epoch 22: loss improved from 0.86891 to 0.85259, saving model to next_words.h5\n",
            "1503/1503 [==============================] - 22s 14ms/step - loss: 0.8526\n",
            "Epoch 23/70\n",
            "1501/1503 [============================>.] - ETA: 0s - loss: 0.8405\n",
            "Epoch 23: loss improved from 0.85259 to 0.84042, saving model to next_words.h5\n",
            "1503/1503 [==============================] - 21s 14ms/step - loss: 0.8404\n",
            "Epoch 24/70\n",
            "1503/1503 [==============================] - ETA: 0s - loss: 0.8305\n",
            "Epoch 24: loss improved from 0.84042 to 0.83046, saving model to next_words.h5\n",
            "1503/1503 [==============================] - 21s 14ms/step - loss: 0.8305\n",
            "Epoch 25/70\n",
            "1500/1503 [============================>.] - ETA: 0s - loss: 0.8204\n",
            "Epoch 25: loss improved from 0.83046 to 0.82022, saving model to next_words.h5\n",
            "1503/1503 [==============================] - 21s 14ms/step - loss: 0.8202\n",
            "Epoch 26/70\n",
            "1502/1503 [============================>.] - ETA: 0s - loss: 0.8107\n",
            "Epoch 26: loss improved from 0.82022 to 0.81067, saving model to next_words.h5\n",
            "1503/1503 [==============================] - 21s 14ms/step - loss: 0.8107\n",
            "Epoch 27/70\n",
            "1501/1503 [============================>.] - ETA: 0s - loss: 0.8023\n",
            "Epoch 27: loss improved from 0.81067 to 0.80206, saving model to next_words.h5\n",
            "1503/1503 [==============================] - 22s 14ms/step - loss: 0.8021\n",
            "Epoch 28/70\n",
            "1501/1503 [============================>.] - ETA: 0s - loss: 0.7936\n",
            "Epoch 28: loss improved from 0.80206 to 0.79378, saving model to next_words.h5\n",
            "1503/1503 [==============================] - 21s 14ms/step - loss: 0.7938\n",
            "Epoch 29/70\n",
            "1500/1503 [============================>.] - ETA: 0s - loss: 0.7865\n",
            "Epoch 29: loss improved from 0.79378 to 0.78662, saving model to next_words.h5\n",
            "1503/1503 [==============================] - 21s 14ms/step - loss: 0.7866\n",
            "Epoch 30/70\n",
            "1503/1503 [==============================] - ETA: 0s - loss: 0.7783\n",
            "Epoch 30: loss improved from 0.78662 to 0.77825, saving model to next_words.h5\n",
            "1503/1503 [==============================] - 21s 14ms/step - loss: 0.7783\n",
            "Epoch 31/70\n",
            "1500/1503 [============================>.] - ETA: 0s - loss: 0.7744\n",
            "Epoch 31: loss improved from 0.77825 to 0.77457, saving model to next_words.h5\n",
            "1503/1503 [==============================] - 21s 14ms/step - loss: 0.7746\n",
            "Epoch 32/70\n",
            "1502/1503 [============================>.] - ETA: 0s - loss: 0.7668\n",
            "Epoch 32: loss improved from 0.77457 to 0.76672, saving model to next_words.h5\n",
            "1503/1503 [==============================] - 22s 14ms/step - loss: 0.7667\n",
            "Epoch 33/70\n",
            "1501/1503 [============================>.] - ETA: 0s - loss: 0.7621\n",
            "Epoch 33: loss improved from 0.76672 to 0.76200, saving model to next_words.h5\n",
            "1503/1503 [==============================] - 22s 14ms/step - loss: 0.7620\n",
            "Epoch 34/70\n",
            "1501/1503 [============================>.] - ETA: 0s - loss: 0.7537\n",
            "Epoch 34: loss improved from 0.76200 to 0.75385, saving model to next_words.h5\n",
            "1503/1503 [==============================] - 21s 14ms/step - loss: 0.7538\n",
            "Epoch 35/70\n",
            "1500/1503 [============================>.] - ETA: 0s - loss: 0.7517\n",
            "Epoch 35: loss improved from 0.75385 to 0.75199, saving model to next_words.h5\n",
            "1503/1503 [==============================] - 22s 14ms/step - loss: 0.7520\n",
            "Epoch 36/70\n",
            "1503/1503 [==============================] - ETA: 0s - loss: 0.7452\n",
            "Epoch 36: loss improved from 0.75199 to 0.74518, saving model to next_words.h5\n",
            "1503/1503 [==============================] - 21s 14ms/step - loss: 0.7452\n",
            "Epoch 37/70\n",
            "1501/1503 [============================>.] - ETA: 0s - loss: 0.7413\n",
            "Epoch 37: loss improved from 0.74518 to 0.74153, saving model to next_words.h5\n",
            "1503/1503 [==============================] - 22s 14ms/step - loss: 0.7415\n",
            "Epoch 38/70\n",
            "1501/1503 [============================>.] - ETA: 0s - loss: 0.7365\n",
            "Epoch 38: loss improved from 0.74153 to 0.73634, saving model to next_words.h5\n",
            "1503/1503 [==============================] - 21s 14ms/step - loss: 0.7363\n",
            "Epoch 39/70\n",
            "1503/1503 [==============================] - ETA: 0s - loss: 0.7319\n",
            "Epoch 39: loss improved from 0.73634 to 0.73190, saving model to next_words.h5\n",
            "1503/1503 [==============================] - 22s 14ms/step - loss: 0.7319\n",
            "Epoch 40/70\n",
            "1502/1503 [============================>.] - ETA: 0s - loss: 0.7280\n",
            "Epoch 40: loss improved from 0.73190 to 0.72796, saving model to next_words.h5\n",
            "1503/1503 [==============================] - 22s 14ms/step - loss: 0.7280\n",
            "Epoch 41/70\n",
            "1501/1503 [============================>.] - ETA: 0s - loss: 0.7244\n",
            "Epoch 41: loss improved from 0.72796 to 0.72453, saving model to next_words.h5\n",
            "1503/1503 [==============================] - 22s 14ms/step - loss: 0.7245\n",
            "Epoch 42/70\n",
            "1502/1503 [============================>.] - ETA: 0s - loss: 0.7204\n",
            "Epoch 42: loss improved from 0.72453 to 0.72024, saving model to next_words.h5\n",
            "1503/1503 [==============================] - 22s 14ms/step - loss: 0.7202\n",
            "Epoch 43/70\n",
            "1502/1503 [============================>.] - ETA: 0s - loss: 0.7182\n",
            "Epoch 43: loss improved from 0.72024 to 0.71816, saving model to next_words.h5\n",
            "1503/1503 [==============================] - 22s 14ms/step - loss: 0.7182\n",
            "Epoch 44/70\n",
            "1503/1503 [==============================] - ETA: 0s - loss: 0.7119\n",
            "Epoch 44: loss improved from 0.71816 to 0.71189, saving model to next_words.h5\n",
            "1503/1503 [==============================] - 21s 14ms/step - loss: 0.7119\n",
            "Epoch 45/70\n",
            "1502/1503 [============================>.] - ETA: 0s - loss: 0.7096\n",
            "Epoch 45: loss improved from 0.71189 to 0.70977, saving model to next_words.h5\n",
            "1503/1503 [==============================] - 21s 14ms/step - loss: 0.7098\n",
            "Epoch 46/70\n",
            "1503/1503 [==============================] - ETA: 0s - loss: 0.7073\n",
            "Epoch 46: loss improved from 0.70977 to 0.70726, saving model to next_words.h5\n",
            "1503/1503 [==============================] - 21s 14ms/step - loss: 0.7073\n",
            "Epoch 47/70\n",
            "1503/1503 [==============================] - ETA: 0s - loss: 0.7029\n",
            "Epoch 47: loss improved from 0.70726 to 0.70290, saving model to next_words.h5\n",
            "1503/1503 [==============================] - 22s 14ms/step - loss: 0.7029\n",
            "Epoch 48/70\n",
            "1502/1503 [============================>.] - ETA: 0s - loss: 0.7002\n",
            "Epoch 48: loss improved from 0.70290 to 0.70025, saving model to next_words.h5\n",
            "1503/1503 [==============================] - 21s 14ms/step - loss: 0.7003\n",
            "Epoch 49/70\n",
            "1502/1503 [============================>.] - ETA: 0s - loss: 0.6987\n",
            "Epoch 49: loss improved from 0.70025 to 0.69882, saving model to next_words.h5\n",
            "1503/1503 [==============================] - 22s 14ms/step - loss: 0.6988\n",
            "Epoch 50/70\n",
            "1501/1503 [============================>.] - ETA: 0s - loss: 0.6947\n",
            "Epoch 50: loss improved from 0.69882 to 0.69481, saving model to next_words.h5\n",
            "1503/1503 [==============================] - 22s 14ms/step - loss: 0.6948\n",
            "Epoch 51/70\n",
            "1503/1503 [==============================] - ETA: 0s - loss: 0.6949\n",
            "Epoch 51: loss did not improve from 0.69481\n",
            "1503/1503 [==============================] - 21s 14ms/step - loss: 0.6949\n",
            "Epoch 52/70\n",
            "1501/1503 [============================>.] - ETA: 0s - loss: 0.6910\n",
            "Epoch 52: loss improved from 0.69481 to 0.69104, saving model to next_words.h5\n",
            "1503/1503 [==============================] - 22s 14ms/step - loss: 0.6910\n",
            "Epoch 53/70\n",
            "1500/1503 [============================>.] - ETA: 0s - loss: 0.6872\n",
            "Epoch 53: loss improved from 0.69104 to 0.68752, saving model to next_words.h5\n",
            "1503/1503 [==============================] - 22s 14ms/step - loss: 0.6875\n",
            "Epoch 54/70\n",
            "1503/1503 [==============================] - ETA: 0s - loss: 0.6855\n",
            "Epoch 54: loss improved from 0.68752 to 0.68546, saving model to next_words.h5\n",
            "1503/1503 [==============================] - 22s 14ms/step - loss: 0.6855\n",
            "Epoch 55/70\n",
            "1503/1503 [==============================] - ETA: 0s - loss: 0.6837\n",
            "Epoch 55: loss improved from 0.68546 to 0.68366, saving model to next_words.h5\n",
            "1503/1503 [==============================] - 21s 14ms/step - loss: 0.6837\n",
            "Epoch 56/70\n",
            "1503/1503 [==============================] - ETA: 0s - loss: 0.6808\n",
            "Epoch 56: loss improved from 0.68366 to 0.68083, saving model to next_words.h5\n",
            "1503/1503 [==============================] - 22s 14ms/step - loss: 0.6808\n",
            "Epoch 57/70\n",
            "1501/1503 [============================>.] - ETA: 0s - loss: 0.6797\n",
            "Epoch 57: loss improved from 0.68083 to 0.67992, saving model to next_words.h5\n",
            "1503/1503 [==============================] - 21s 14ms/step - loss: 0.6799\n",
            "Epoch 58/70\n",
            "1502/1503 [============================>.] - ETA: 0s - loss: 0.6756\n",
            "Epoch 58: loss improved from 0.67992 to 0.67574, saving model to next_words.h5\n",
            "1503/1503 [==============================] - 21s 14ms/step - loss: 0.6757\n",
            "Epoch 59/70\n",
            "1501/1503 [============================>.] - ETA: 0s - loss: 0.6732\n",
            "Epoch 59: loss improved from 0.67574 to 0.67317, saving model to next_words.h5\n",
            "1503/1503 [==============================] - 22s 14ms/step - loss: 0.6732\n",
            "Epoch 60/70\n",
            "1501/1503 [============================>.] - ETA: 0s - loss: 0.6727\n",
            "Epoch 60: loss improved from 0.67317 to 0.67276, saving model to next_words.h5\n",
            "1503/1503 [==============================] - 22s 14ms/step - loss: 0.6728\n",
            "Epoch 61/70\n",
            "1500/1503 [============================>.] - ETA: 0s - loss: 0.6717\n",
            "Epoch 61: loss improved from 0.67276 to 0.67184, saving model to next_words.h5\n",
            "1503/1503 [==============================] - 22s 15ms/step - loss: 0.6718\n",
            "Epoch 62/70\n",
            "1502/1503 [============================>.] - ETA: 0s - loss: 0.6681\n",
            "Epoch 62: loss improved from 0.67184 to 0.66824, saving model to next_words.h5\n",
            "1503/1503 [==============================] - 22s 14ms/step - loss: 0.6682\n",
            "Epoch 63/70\n",
            "1502/1503 [============================>.] - ETA: 0s - loss: 0.6638\n",
            "Epoch 63: loss improved from 0.66824 to 0.66371, saving model to next_words.h5\n",
            "1503/1503 [==============================] - 22s 14ms/step - loss: 0.6637\n",
            "Epoch 64/70\n",
            "1500/1503 [============================>.] - ETA: 0s - loss: 0.6649\n",
            "Epoch 64: loss did not improve from 0.66371\n",
            "1503/1503 [==============================] - 21s 14ms/step - loss: 0.6647\n",
            "Epoch 65/70\n",
            "1500/1503 [============================>.] - ETA: 0s - loss: 0.6636\n",
            "Epoch 65: loss improved from 0.66371 to 0.66366, saving model to next_words.h5\n",
            "1503/1503 [==============================] - 22s 14ms/step - loss: 0.6637\n",
            "Epoch 66/70\n",
            "1502/1503 [============================>.] - ETA: 0s - loss: 0.6622\n",
            "Epoch 66: loss improved from 0.66366 to 0.66220, saving model to next_words.h5\n",
            "1503/1503 [==============================] - 22s 15ms/step - loss: 0.6622\n",
            "Epoch 67/70\n",
            "1501/1503 [============================>.] - ETA: 0s - loss: 0.6619\n",
            "Epoch 67: loss improved from 0.66220 to 0.66201, saving model to next_words.h5\n",
            "1503/1503 [==============================] - 22s 15ms/step - loss: 0.6620\n",
            "Epoch 68/70\n",
            "1502/1503 [============================>.] - ETA: 0s - loss: 0.6586\n",
            "Epoch 68: loss improved from 0.66201 to 0.65880, saving model to next_words.h5\n",
            "1503/1503 [==============================] - 22s 15ms/step - loss: 0.6588\n",
            "Epoch 69/70\n",
            "1502/1503 [============================>.] - ETA: 0s - loss: 0.6554\n",
            "Epoch 69: loss improved from 0.65880 to 0.65542, saving model to next_words.h5\n",
            "1503/1503 [==============================] - 22s 14ms/step - loss: 0.6554\n",
            "Epoch 70/70\n",
            "1503/1503 [==============================] - ETA: 0s - loss: 0.6565\n",
            "Epoch 70: loss did not improve from 0.65542\n",
            "1503/1503 [==============================] - 21s 14ms/step - loss: 0.6565\n"
          ]
        },
        {
          "data": {
            "text/plain": [
              "<keras.callbacks.History at 0x7f521ca241d0>"
            ]
          },
          "execution_count": 8,
          "metadata": {},
          "output_type": "execute_result"
        }
      ],
      "source": [
        "from tensorflow.keras.callbacks import ModelCheckpoint\n",
        "\n",
        "checkpoint = ModelCheckpoint(\"next_words.h5\", monitor='loss', verbose=1, save_best_only=True)\n",
        "model.compile(loss=\"categorical_crossentropy\", optimizer=Adam(learning_rate=0.001))\n",
        "model.fit(X, y, epochs=70, batch_size=64, callbacks=[checkpoint])\n"
      ]
    },
    {
      "cell_type": "code",
      "execution_count": null,
      "metadata": {
        "colab": {
          "background_save": true,
          "base_uri": "https://localhost:8080/"
        },
        "id": "yqJg1_YvPg7w",
        "outputId": "c364b556-d6b9-4d4b-9aed-c38c5ac94d7f"
      },
      "outputs": [
        {
          "name": "stdout",
          "output_type": "stream",
          "text": [
            "['god', 'is', 'the']\n",
            "god\n",
            "['you', 'are', 'the']\n",
            "lord's\n"
          ]
        }
      ],
      "source": [
        "from tensorflow.keras.models import load_model\n",
        "import numpy as np\n",
        "import pickle\n",
        "\n",
        "# Load the model and tokenizer\n",
        "model = load_model('next_words.h5')\n",
        "tokenizer = pickle.load(open('token.pkl', 'rb'))\n",
        "\n",
        "def Predict_Next_Words(model, tokenizer, text):\n",
        "\n",
        "  sequence = tokenizer.texts_to_sequences([text])\n",
        "  sequence = np.array(sequence)\n",
        "  preds = np.argmax(model.predict(sequence))\n",
        "  predicted_word = \"\"\n",
        "  \n",
        "  for key, value in tokenizer.word_index.items():\n",
        "      if value == preds:\n",
        "          predicted_word = key\n",
        "          break\n",
        "  \n",
        "  print(predicted_word)\n",
        "  return predicted_word\n",
        "\n",
        "while(True):\n",
        "  text = input(\"Enter your line: \")\n",
        "  \n",
        "  if text == \"0\":\n",
        "      print(\"Execution completed.....\")\n",
        "      break\n",
        "  \n",
        "  else:\n",
        "      try:\n",
        "          text = text.split(\" \")\n",
        "          text = text[-3:]\n",
        "          print(text)\n",
        "        \n",
        "          Predict_Next_Words(model, tokenizer, text)\n",
        "          \n",
        "      except Exception as e:\n",
        "        print(\"Error occurred: \",e)\n",
        "        continue"
      ]
    }
  ],
  "metadata": {
    "accelerator": "GPU",
    "colab": {
      "collapsed_sections": [],
      "name": "4o desafio.ipynb",
      "provenance": []
    },
    "gpuClass": "standard",
    "kernelspec": {
      "display_name": "Python 3",
      "name": "python3"
    },
    "language_info": {
      "name": "python"
    }
  },
  "nbformat": 4,
  "nbformat_minor": 0
}